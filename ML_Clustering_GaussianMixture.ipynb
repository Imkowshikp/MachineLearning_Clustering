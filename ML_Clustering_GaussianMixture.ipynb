{
 "cells": [
  {
   "cell_type": "markdown",
   "id": "424ff707",
   "metadata": {},
   "source": [
    "\n",
    "# Kowshik P \n",
    "\n",
    "## ML Clustering assignment submitted on 02-May-2022\n",
    "## -----------------------------------------------------------------------------\n",
    "## Model Implemented - GaussianMixture and Random Forest\n",
    "## Metric - Confusion Matrix (Accuracy_score)\n",
    "## Accuracy Rate of Model : 0.96\n",
    "## Type - 1 error: 2\n",
    "## Type - 2 error: 1 \n",
    "## Performance - Good\n",
    "## -----------------------------------------------------------------------------\n"
   ]
  },
  {
   "cell_type": "code",
   "execution_count": 1,
   "id": "ca5bbd4e",
   "metadata": {},
   "outputs": [],
   "source": [
    "import pandas as pd;\n",
    "import numpy as np;\n",
    "import matplotlib.pyplot as mat;\n"
   ]
  },
  {
   "cell_type": "code",
   "execution_count": 2,
   "id": "32783b7d",
   "metadata": {},
   "outputs": [
    {
     "data": {
      "text/html": [
       "<div>\n",
       "<style scoped>\n",
       "    .dataframe tbody tr th:only-of-type {\n",
       "        vertical-align: middle;\n",
       "    }\n",
       "\n",
       "    .dataframe tbody tr th {\n",
       "        vertical-align: top;\n",
       "    }\n",
       "\n",
       "    .dataframe thead th {\n",
       "        text-align: right;\n",
       "    }\n",
       "</style>\n",
       "<table border=\"1\" class=\"dataframe\">\n",
       "  <thead>\n",
       "    <tr style=\"text-align: right;\">\n",
       "      <th></th>\n",
       "      <th>CustomerID</th>\n",
       "      <th>Genre</th>\n",
       "      <th>Age</th>\n",
       "      <th>Annual Income (k$)</th>\n",
       "      <th>Spending Score (1-100)</th>\n",
       "    </tr>\n",
       "  </thead>\n",
       "  <tbody>\n",
       "    <tr>\n",
       "      <th>0</th>\n",
       "      <td>1</td>\n",
       "      <td>Male</td>\n",
       "      <td>19</td>\n",
       "      <td>15</td>\n",
       "      <td>39</td>\n",
       "    </tr>\n",
       "    <tr>\n",
       "      <th>1</th>\n",
       "      <td>2</td>\n",
       "      <td>Male</td>\n",
       "      <td>21</td>\n",
       "      <td>15</td>\n",
       "      <td>81</td>\n",
       "    </tr>\n",
       "    <tr>\n",
       "      <th>2</th>\n",
       "      <td>3</td>\n",
       "      <td>Female</td>\n",
       "      <td>20</td>\n",
       "      <td>16</td>\n",
       "      <td>6</td>\n",
       "    </tr>\n",
       "    <tr>\n",
       "      <th>3</th>\n",
       "      <td>4</td>\n",
       "      <td>Female</td>\n",
       "      <td>23</td>\n",
       "      <td>16</td>\n",
       "      <td>77</td>\n",
       "    </tr>\n",
       "    <tr>\n",
       "      <th>4</th>\n",
       "      <td>5</td>\n",
       "      <td>Female</td>\n",
       "      <td>31</td>\n",
       "      <td>17</td>\n",
       "      <td>40</td>\n",
       "    </tr>\n",
       "    <tr>\n",
       "      <th>...</th>\n",
       "      <td>...</td>\n",
       "      <td>...</td>\n",
       "      <td>...</td>\n",
       "      <td>...</td>\n",
       "      <td>...</td>\n",
       "    </tr>\n",
       "    <tr>\n",
       "      <th>195</th>\n",
       "      <td>196</td>\n",
       "      <td>Female</td>\n",
       "      <td>35</td>\n",
       "      <td>120</td>\n",
       "      <td>79</td>\n",
       "    </tr>\n",
       "    <tr>\n",
       "      <th>196</th>\n",
       "      <td>197</td>\n",
       "      <td>Female</td>\n",
       "      <td>45</td>\n",
       "      <td>126</td>\n",
       "      <td>28</td>\n",
       "    </tr>\n",
       "    <tr>\n",
       "      <th>197</th>\n",
       "      <td>198</td>\n",
       "      <td>Male</td>\n",
       "      <td>32</td>\n",
       "      <td>126</td>\n",
       "      <td>74</td>\n",
       "    </tr>\n",
       "    <tr>\n",
       "      <th>198</th>\n",
       "      <td>199</td>\n",
       "      <td>Male</td>\n",
       "      <td>32</td>\n",
       "      <td>137</td>\n",
       "      <td>18</td>\n",
       "    </tr>\n",
       "    <tr>\n",
       "      <th>199</th>\n",
       "      <td>200</td>\n",
       "      <td>Male</td>\n",
       "      <td>30</td>\n",
       "      <td>137</td>\n",
       "      <td>83</td>\n",
       "    </tr>\n",
       "  </tbody>\n",
       "</table>\n",
       "<p>200 rows × 5 columns</p>\n",
       "</div>"
      ],
      "text/plain": [
       "     CustomerID   Genre  Age  Annual Income (k$)  Spending Score (1-100)\n",
       "0             1    Male   19                  15                      39\n",
       "1             2    Male   21                  15                      81\n",
       "2             3  Female   20                  16                       6\n",
       "3             4  Female   23                  16                      77\n",
       "4             5  Female   31                  17                      40\n",
       "..          ...     ...  ...                 ...                     ...\n",
       "195         196  Female   35                 120                      79\n",
       "196         197  Female   45                 126                      28\n",
       "197         198    Male   32                 126                      74\n",
       "198         199    Male   32                 137                      18\n",
       "199         200    Male   30                 137                      83\n",
       "\n",
       "[200 rows x 5 columns]"
      ]
     },
     "execution_count": 2,
     "metadata": {},
     "output_type": "execute_result"
    }
   ],
   "source": [
    "dataset = pd.read_csv(\"Mall_Customers.csv\");\n",
    "\n",
    "dataset"
   ]
  },
  {
   "cell_type": "code",
   "execution_count": 3,
   "id": "5f16abe3",
   "metadata": {},
   "outputs": [],
   "source": [
    "independent = dataset.iloc[:, [3, 4]].values;\n",
    "\n",
    "#independent"
   ]
  },
  {
   "cell_type": "code",
   "execution_count": 4,
   "id": "a3e7bb32",
   "metadata": {},
   "outputs": [],
   "source": [
    "from sklearn.mixture import GaussianMixture;\n",
    "\n",
    "#from itertools import cycle;\n",
    "\n",
    "#colors = cycle(\"bgrcmykbgrcmykbgrcmykbgrcmyk\");\n",
    "\n",
    "\n",
    "\n",
    "#from sklearn.datasets import make_blobs;\n",
    "#make_blobs(independent);\n",
    "\n",
    "#import scipy.cluster.hierarchy as sch;\n",
    "\n",
    "#sch.make_blobs(independent);\n",
    "\n",
    "for values in range(1, 11):\n",
    "    gaussianMixture = GaussianMixture(n_components = values, random_state = 42);\n",
    "    gaussianMixture.fit(independent);\n",
    "\n",
    "#mat.plot(range(1, 11), colors);\n",
    "#mat.title(\"Estimated No.of Clusters\");\n",
    "#mat.show()\n",
    "\n",
    "\n",
    "\n"
   ]
  },
  {
   "cell_type": "code",
   "execution_count": 5,
   "id": "61f28cc2",
   "metadata": {},
   "outputs": [
    {
     "data": {
      "text/plain": [
       "array([4, 5, 2, 5, 4, 5, 2, 5, 2, 5, 2, 5, 2, 5, 2, 5, 4, 5, 4, 5, 4, 5,\n",
       "       2, 5, 2, 5, 4, 5, 4, 5, 2, 5, 2, 5, 2, 5, 2, 5, 4, 5, 9, 5, 9, 9,\n",
       "       4, 5, 9, 9, 9, 9, 9, 9, 9, 9, 9, 9, 9, 9, 9, 9, 9, 9, 9, 9, 9, 9,\n",
       "       9, 9, 9, 9, 9, 9, 9, 9, 0, 0, 0, 0, 0, 6, 0, 0, 6, 6, 0, 6, 0, 0,\n",
       "       0, 0, 0, 6, 0, 6, 6, 0, 0, 0, 6, 0, 6, 0, 0, 0, 0, 6, 0, 0, 6, 0,\n",
       "       0, 0, 6, 0, 0, 0, 6, 0, 6, 0, 0, 6, 0, 7, 8, 7, 6, 7, 1, 7, 1, 7,\n",
       "       6, 7, 1, 7, 1, 7, 1, 7, 1, 7, 6, 7, 1, 7, 6, 7, 1, 7, 1, 7, 1, 7,\n",
       "       1, 7, 1, 7, 1, 7, 6, 7, 1, 7, 8, 7, 1, 7, 8, 7, 1, 7, 1, 3, 1, 3,\n",
       "       1, 7, 8, 3, 8, 3, 8, 3, 8, 3, 8, 3, 8, 3, 8, 3, 8, 3, 8, 3, 8, 3,\n",
       "       8, 3], dtype=int64)"
      ]
     },
     "execution_count": 5,
     "metadata": {},
     "output_type": "execute_result"
    }
   ],
   "source": [
    "from sklearn.mixture import GaussianMixture;\n",
    "\n",
    "gaussianMixture = GaussianMixture(n_components = values, random_state = 42);\n",
    "\n",
    "y_gaussianMixture = gaussianMixture.fit_predict(independent);\n",
    "\n",
    "y_gaussianMixture"
   ]
  },
  {
   "cell_type": "code",
   "execution_count": 6,
   "id": "cc1022b7",
   "metadata": {},
   "outputs": [
    {
     "data": {
      "text/html": [
       "<div>\n",
       "<style scoped>\n",
       "    .dataframe tbody tr th:only-of-type {\n",
       "        vertical-align: middle;\n",
       "    }\n",
       "\n",
       "    .dataframe tbody tr th {\n",
       "        vertical-align: top;\n",
       "    }\n",
       "\n",
       "    .dataframe thead th {\n",
       "        text-align: right;\n",
       "    }\n",
       "</style>\n",
       "<table border=\"1\" class=\"dataframe\">\n",
       "  <thead>\n",
       "    <tr style=\"text-align: right;\">\n",
       "      <th></th>\n",
       "      <th>CustomerID</th>\n",
       "      <th>Genre</th>\n",
       "      <th>Age</th>\n",
       "      <th>Annual Income (k$)</th>\n",
       "      <th>Spending Score (1-100)</th>\n",
       "      <th>Cluster_Group</th>\n",
       "    </tr>\n",
       "  </thead>\n",
       "  <tbody>\n",
       "    <tr>\n",
       "      <th>0</th>\n",
       "      <td>1</td>\n",
       "      <td>Male</td>\n",
       "      <td>19</td>\n",
       "      <td>15</td>\n",
       "      <td>39</td>\n",
       "      <td>4</td>\n",
       "    </tr>\n",
       "    <tr>\n",
       "      <th>1</th>\n",
       "      <td>2</td>\n",
       "      <td>Male</td>\n",
       "      <td>21</td>\n",
       "      <td>15</td>\n",
       "      <td>81</td>\n",
       "      <td>5</td>\n",
       "    </tr>\n",
       "    <tr>\n",
       "      <th>2</th>\n",
       "      <td>3</td>\n",
       "      <td>Female</td>\n",
       "      <td>20</td>\n",
       "      <td>16</td>\n",
       "      <td>6</td>\n",
       "      <td>2</td>\n",
       "    </tr>\n",
       "    <tr>\n",
       "      <th>3</th>\n",
       "      <td>4</td>\n",
       "      <td>Female</td>\n",
       "      <td>23</td>\n",
       "      <td>16</td>\n",
       "      <td>77</td>\n",
       "      <td>5</td>\n",
       "    </tr>\n",
       "    <tr>\n",
       "      <th>4</th>\n",
       "      <td>5</td>\n",
       "      <td>Female</td>\n",
       "      <td>31</td>\n",
       "      <td>17</td>\n",
       "      <td>40</td>\n",
       "      <td>4</td>\n",
       "    </tr>\n",
       "    <tr>\n",
       "      <th>...</th>\n",
       "      <td>...</td>\n",
       "      <td>...</td>\n",
       "      <td>...</td>\n",
       "      <td>...</td>\n",
       "      <td>...</td>\n",
       "      <td>...</td>\n",
       "    </tr>\n",
       "    <tr>\n",
       "      <th>195</th>\n",
       "      <td>196</td>\n",
       "      <td>Female</td>\n",
       "      <td>35</td>\n",
       "      <td>120</td>\n",
       "      <td>79</td>\n",
       "      <td>3</td>\n",
       "    </tr>\n",
       "    <tr>\n",
       "      <th>196</th>\n",
       "      <td>197</td>\n",
       "      <td>Female</td>\n",
       "      <td>45</td>\n",
       "      <td>126</td>\n",
       "      <td>28</td>\n",
       "      <td>8</td>\n",
       "    </tr>\n",
       "    <tr>\n",
       "      <th>197</th>\n",
       "      <td>198</td>\n",
       "      <td>Male</td>\n",
       "      <td>32</td>\n",
       "      <td>126</td>\n",
       "      <td>74</td>\n",
       "      <td>3</td>\n",
       "    </tr>\n",
       "    <tr>\n",
       "      <th>198</th>\n",
       "      <td>199</td>\n",
       "      <td>Male</td>\n",
       "      <td>32</td>\n",
       "      <td>137</td>\n",
       "      <td>18</td>\n",
       "      <td>8</td>\n",
       "    </tr>\n",
       "    <tr>\n",
       "      <th>199</th>\n",
       "      <td>200</td>\n",
       "      <td>Male</td>\n",
       "      <td>30</td>\n",
       "      <td>137</td>\n",
       "      <td>83</td>\n",
       "      <td>3</td>\n",
       "    </tr>\n",
       "  </tbody>\n",
       "</table>\n",
       "<p>200 rows × 6 columns</p>\n",
       "</div>"
      ],
      "text/plain": [
       "     CustomerID   Genre  Age  Annual Income (k$)  Spending Score (1-100)  \\\n",
       "0             1    Male   19                  15                      39   \n",
       "1             2    Male   21                  15                      81   \n",
       "2             3  Female   20                  16                       6   \n",
       "3             4  Female   23                  16                      77   \n",
       "4             5  Female   31                  17                      40   \n",
       "..          ...     ...  ...                 ...                     ...   \n",
       "195         196  Female   35                 120                      79   \n",
       "196         197  Female   45                 126                      28   \n",
       "197         198    Male   32                 126                      74   \n",
       "198         199    Male   32                 137                      18   \n",
       "199         200    Male   30                 137                      83   \n",
       "\n",
       "     Cluster_Group  \n",
       "0                4  \n",
       "1                5  \n",
       "2                2  \n",
       "3                5  \n",
       "4                4  \n",
       "..             ...  \n",
       "195              3  \n",
       "196              8  \n",
       "197              3  \n",
       "198              8  \n",
       "199              3  \n",
       "\n",
       "[200 rows x 6 columns]"
      ]
     },
     "execution_count": 6,
     "metadata": {},
     "output_type": "execute_result"
    }
   ],
   "source": [
    "supervised = pd.DataFrame(dataset);\n",
    "\n",
    "supervised[\"Cluster_Group\"] = y_gaussianMixture;\n",
    "\n",
    "supervised"
   ]
  },
  {
   "cell_type": "code",
   "execution_count": 7,
   "id": "15780058",
   "metadata": {},
   "outputs": [],
   "source": [
    "supervised.to_csv(\"cluster_csv\", index = False);"
   ]
  },
  {
   "cell_type": "code",
   "execution_count": 8,
   "id": "cbd78b71",
   "metadata": {},
   "outputs": [
    {
     "name": "stderr",
     "output_type": "stream",
     "text": [
      "C:\\Users\\hp\\Anaconda3\\envs\\virtualml\\lib\\site-packages\\seaborn\\regression.py:592: UserWarning: legend_out is deprecated from the `lmplot` function signature. Please update your code to pass it using `facet_kws`.\n",
      "  warnings.warn(msg, UserWarning)\n"
     ]
    },
    {
     "data": {
      "image/png": "[encoded data removed]",
      "text/plain": [
       "<Figure size 439x360 with 1 Axes>"
      ]
     },
     "metadata": {
      "needs_background": "light"
     },
     "output_type": "display_data"
    }
   ],
   "source": [
    "import seaborn as sns;\n",
    "\n",
    "facet = sns.lmplot(data = supervised, x = supervised.columns[3], y = supervised.columns[4], hue = supervised.columns[5], \n",
    "          fit_reg = False, legend = True, legend_out = True);"
   ]
  },
  {
   "cell_type": "code",
   "execution_count": 9,
   "id": "c5c92636",
   "metadata": {},
   "outputs": [],
   "source": [
    "dependent = supervised.iloc[:, [5]].values;"
   ]
  },
  {
   "cell_type": "code",
   "execution_count": 16,
   "id": "145b56c8",
   "metadata": {},
   "outputs": [],
   "source": [
    "from sklearn.model_selection import train_test_split;\n",
    "\n",
    "x_train, x_test, y_train, y_test = train_test_split(independent, dependent, test_size = 1/3, random_state = 6);"
   ]
  },
  {
   "cell_type": "code",
   "execution_count": 17,
   "id": "30b9f3ec",
   "metadata": {},
   "outputs": [],
   "source": [
    "from sklearn.preprocessing import StandardScaler;\n",
    "\n",
    "standardization = StandardScaler();\n",
    "\n",
    "x_train = standardization.fit_transform(x_train);\n",
    "\n",
    "x_test = standardization.transform(x_test);\n"
   ]
  },
  {
   "cell_type": "code",
   "execution_count": 18,
   "id": "f5c9835c",
   "metadata": {},
   "outputs": [
    {
     "name": "stderr",
     "output_type": "stream",
     "text": [
      "C:\\Users\\hp\\Anaconda3\\envs\\virtualml\\lib\\site-packages\\ipykernel_launcher.py:5: DataConversionWarning: A column-vector y was passed when a 1d array was expected. Please change the shape of y to (n_samples,), for example using ravel().\n",
      "  \"\"\"\n"
     ]
    }
   ],
   "source": [
    "from sklearn.ensemble import RandomForestClassifier;\n",
    "\n",
    "randomForestClassifier = RandomForestClassifier();\n",
    "\n",
    "randomForestClassifier.fit(x_train, y_train);\n"
   ]
  },
  {
   "cell_type": "code",
   "execution_count": 19,
   "id": "47c53e7f",
   "metadata": {},
   "outputs": [],
   "source": [
    "y_pred = randomForestClassifier.predict(x_test);"
   ]
  },
  {
   "cell_type": "code",
   "execution_count": 20,
   "id": "0164a420",
   "metadata": {},
   "outputs": [
    {
     "name": "stdout",
     "output_type": "stream",
     "text": [
      "[[13  0  0  0  0  0  0  0  0  0]\n",
      " [ 0  7  0  0  0  0  0  0  0  0]\n",
      " [ 0  0  4  0  0  0  0  0  0  0]\n",
      " [ 0  0  0  1  0  0  0  1  0  0]\n",
      " [ 0  0  0  0  5  0  0  0  0  0]\n",
      " [ 0  0  0  0  0  5  0  0  0  1]\n",
      " [ 0  0  0  0  0  0  9  0  0  0]\n",
      " [ 1  0  0  0  0  0  0  6  0  0]\n",
      " [ 0  0  0  0  0  0  0  0  3  0]\n",
      " [ 0  0  0  0  0  0  0  0  0 11]]\n"
     ]
    }
   ],
   "source": [
    "from sklearn.metrics import confusion_matrix;\n",
    "\n",
    "randamForestConfusionMatrix = confusion_matrix(y_test, y_pred);\n",
    "\n",
    "print(randamForestConfusionMatrix);"
   ]
  },
  {
   "cell_type": "code",
   "execution_count": 21,
   "id": "1a47afc3",
   "metadata": {},
   "outputs": [
    {
     "name": "stdout",
     "output_type": "stream",
     "text": [
      "              precision    recall  f1-score   support\n",
      "\n",
      "           0       0.93      1.00      0.96        13\n",
      "           1       1.00      1.00      1.00         7\n",
      "           2       1.00      1.00      1.00         4\n",
      "           3       1.00      0.50      0.67         2\n",
      "           4       1.00      1.00      1.00         5\n",
      "           5       1.00      0.83      0.91         6\n",
      "           6       1.00      1.00      1.00         9\n",
      "           7       0.86      0.86      0.86         7\n",
      "           8       1.00      1.00      1.00         3\n",
      "           9       0.92      1.00      0.96        11\n",
      "\n",
      "    accuracy                           0.96        67\n",
      "   macro avg       0.97      0.92      0.94        67\n",
      "weighted avg       0.96      0.96      0.95        67\n",
      "\n"
     ]
    }
   ],
   "source": [
    "from sklearn.metrics import classification_report;\n",
    "\n",
    "randamForestClassifierReport = classification_report(y_test, y_pred);\n",
    "\n",
    "print(randamForestClassifierReport);"
   ]
  },
  {
   "cell_type": "markdown",
   "id": "bde9cc8e",
   "metadata": {},
   "source": [
    "# Metric(Accuracy Score)\n",
    "## The best performance is 1"
   ]
  },
  {
   "cell_type": "code",
   "execution_count": 22,
   "id": "3c98e5c5",
   "metadata": {},
   "outputs": [
    {
     "name": "stdout",
     "output_type": "stream",
     "text": [
      "0.9552238805970149\n"
     ]
    }
   ],
   "source": [
    "from sklearn.metrics import accuracy_score;\n",
    "\n",
    "RandomForestClassifierAccuracy = accuracy_score(y_test, y_pred);\n",
    "\n",
    "print(RandomForestClassifierAccuracy)"
   ]
  }
 ],
 "metadata": {
  "kernelspec": {
   "display_name": "Python 3 (ipykernel)",
   "language": "python",
   "name": "python3"
  },
  "language_info": {
   "codemirror_mode": {
    "name": "ipython",
    "version": 3
   },
   "file_extension": ".py",
   "mimetype": "text/x-python",
   "name": "python",
   "nbconvert_exporter": "python",
   "pygments_lexer": "ipython3",
   "version": "3.7.6"
  }
 },
 "nbformat": 4,
 "nbformat_minor": 5
}
